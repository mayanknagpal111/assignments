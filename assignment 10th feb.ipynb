{
 "cells": [
  {
   "cell_type": "markdown",
   "id": "929eaf33-aa02-4f17-b520-ae9147f6d221",
   "metadata": {},
   "source": [
    "Q1. Which function is used to open a file? What are the different modes of opening a file? Explain each mode\n",
    "of file opening."
   ]
  },
  {
   "cell_type": "markdown",
   "id": "1686e07f-c206-42f8-bc77-b45b8ce96fdb",
   "metadata": {},
   "source": [
    "open() function is used to open the file.\n",
    "\n",
    "Modes of opening a file :\n",
    "\n",
    "1. 'r'       open for reading (default)\n",
    "2. 'w'       open for writing, truncating the file first\n",
    "3. 'x'       create a new file and open it for writing\n",
    "4. 'a'       open for writing, appending to the end of the file if it exists\n",
    "5. 'b'       binary mode\n",
    "6. 't'       text mode (default)\n",
    "7. '+'       open a disk file for updating (reading and writing)\n",
    "8. 'U'       universal newline mode (deprecated)"
   ]
  },
  {
   "cell_type": "code",
   "execution_count": 14,
   "id": "6602f160-7a9c-4c8c-9be6-383301d2f2b5",
   "metadata": {},
   "outputs": [],
   "source": [
    "f = open(\"myfile.txt\", 'w')"
   ]
  },
  {
   "cell_type": "code",
   "execution_count": null,
   "id": "af3c1476-169d-493c-8b58-25418199aeac",
   "metadata": {},
   "outputs": [],
   "source": []
  },
  {
   "cell_type": "markdown",
   "id": "f438776f-69d6-4757-8312-394ae7691aae",
   "metadata": {},
   "source": [
    "Q2. Why close() function is used? Why is it important to close a file?"
   ]
  },
  {
   "cell_type": "markdown",
   "id": "b1b2f1b0-53cd-47c6-88aa-24e9d8be8543",
   "metadata": {},
   "source": [
    "close() function is used to close the opened file for operations like read, write etc.\n",
    "\n",
    "Closing a file is important because files are limited resources managed by the operating system, making sure files are closed after use will protect against hard-to-debug issues like running out of file handles or experiencing corrupted data.\n"
   ]
  },
  {
   "cell_type": "code",
   "execution_count": 17,
   "id": "768ed6b9-dd41-48e7-b6ca-9d3a40bfe964",
   "metadata": {},
   "outputs": [],
   "source": [
    "f = open(\"myfile.txt\", 'w')\n",
    "f.write(\"Hello world\")\n",
    "\n",
    "f.close()"
   ]
  },
  {
   "cell_type": "code",
   "execution_count": null,
   "id": "94734b60-afca-4ee3-8bff-12ac48d49fd4",
   "metadata": {},
   "outputs": [],
   "source": []
  },
  {
   "cell_type": "markdown",
   "id": "9a1bbef9-877d-4826-8cb7-d8f92090dd56",
   "metadata": {},
   "source": [
    "Q3. Write a python program to create a text file. Write ‘I want to become a Data Scientist’ in that file. Then\n",
    "close the file. Open this file and read the content of the file."
   ]
  },
  {
   "cell_type": "code",
   "execution_count": 18,
   "id": "f9c799f0-81ed-4a20-a9df-1f9b6cec7ea5",
   "metadata": {},
   "outputs": [
    {
     "data": {
      "text/plain": [
       "'I want to become a Data Scientist.'"
      ]
     },
     "execution_count": 18,
     "metadata": {},
     "output_type": "execute_result"
    }
   ],
   "source": [
    "f = open(\"myfile.txt\", 'w')\n",
    "f.write(\"I want to become a Data Scientist.\")\n",
    "f.close()\n",
    "\n",
    "f = open(\"myfile.txt\", 'r')\n",
    "\n",
    "f.read()"
   ]
  },
  {
   "cell_type": "code",
   "execution_count": null,
   "id": "e417ccf3-c41f-4002-bd38-1a9176e3ec1f",
   "metadata": {},
   "outputs": [],
   "source": []
  },
  {
   "cell_type": "markdown",
   "id": "2ff66a61-1dc5-4e3b-9f6b-5d519ba24f04",
   "metadata": {},
   "source": [
    "Q4. Explain the following with python code: read(), readline() and readlines()."
   ]
  },
  {
   "cell_type": "markdown",
   "id": "b2f0b8a4-e0c1-4416-8f61-1a91f539a3d7",
   "metadata": {},
   "source": [
    "read() : Read at most n characters from stream. Read from underlying buffer until we have n characters or we hit EOF.\n",
    "\n",
    "readline() : Read until newline or EOF. Returns an empty string if EOF is hit immediately.\n",
    "\n",
    "readlines() : Return a list of lines from the stream. hint can be specified to control the number of lines read: no more\n",
    "lines will be read if the total size (in bytes/characters) of all\n",
    "lines so far exceeds hint.\n"
   ]
  },
  {
   "cell_type": "code",
   "execution_count": 19,
   "id": "f8e09333-ae52-48bf-af35-7ad13137b737",
   "metadata": {},
   "outputs": [],
   "source": [
    "f = open(\"myfile.txt\", 'a')\n",
    "f.write(\" I want to become a Data Scientist. I want to become a Data Scientist. \")\n",
    "f.close()"
   ]
  },
  {
   "cell_type": "code",
   "execution_count": 20,
   "id": "c5fcadb4-d292-476d-a9db-0cd3f13fa446",
   "metadata": {},
   "outputs": [
    {
     "data": {
      "text/plain": [
       "'I want to become a Data Scientist. I want to become a Data Scientist. I want to become a Data Scientist. '"
      ]
     },
     "execution_count": 20,
     "metadata": {},
     "output_type": "execute_result"
    }
   ],
   "source": [
    "f = open(\"myfile.txt\")\n",
    "line = f.readline()\n",
    "line"
   ]
  },
  {
   "cell_type": "code",
   "execution_count": 21,
   "id": "e0997609-1b62-4abe-ac10-e5690271963f",
   "metadata": {},
   "outputs": [
    {
     "data": {
      "text/plain": [
       "['I want to become a Data Scientist. I want to become a Data Scientist. I want to become a Data Scientist. ']"
      ]
     },
     "execution_count": 21,
     "metadata": {},
     "output_type": "execute_result"
    }
   ],
   "source": [
    "f.seek(0)\n",
    "lines = f.readlines()\n",
    "\n",
    "lines"
   ]
  },
  {
   "cell_type": "code",
   "execution_count": 22,
   "id": "72fc708e-c3eb-4633-9237-48d04b8f52c4",
   "metadata": {},
   "outputs": [
    {
     "data": {
      "text/plain": [
       "'t to become a Data Scientist. I want to become a Data Scientist. I want to become a Data Scientist. '"
      ]
     },
     "execution_count": 22,
     "metadata": {},
     "output_type": "execute_result"
    }
   ],
   "source": [
    "f.seek(5)\n",
    "r = f.read()\n",
    "r\n"
   ]
  },
  {
   "cell_type": "code",
   "execution_count": 23,
   "id": "61c7ca2a-4048-435b-8565-b58d72ef3fb1",
   "metadata": {},
   "outputs": [],
   "source": [
    "f.close()"
   ]
  },
  {
   "cell_type": "code",
   "execution_count": null,
   "id": "61b8ac0c-a133-431b-8d16-4bac4ffc342d",
   "metadata": {},
   "outputs": [],
   "source": []
  },
  {
   "cell_type": "markdown",
   "id": "195df834-8edb-4c27-8e12-f86adb539f67",
   "metadata": {},
   "source": [
    "Q5. Explain why with statement is used with open(). What is the advantage of using with statement and\n",
    "open() together?"
   ]
  },
  {
   "cell_type": "markdown",
   "id": "20a57d07-771a-481a-b920-af7d23ce4166",
   "metadata": {},
   "source": [
    "The with statement initiates a context manager. The context manager opens the file and manages the file resource as long as the context is active. In general, all the code in the indented block depends on the file object being open. Once the indented block either ends or raises an exception, then the file will close.\n",
    "\n",
    "So main advantage of following with statement and open() together, you do not need to close the file explicitly using close() function."
   ]
  },
  {
   "cell_type": "code",
   "execution_count": 25,
   "id": "6912be3f-5686-4709-8589-9e7c936045f4",
   "metadata": {},
   "outputs": [
    {
     "name": "stdout",
     "output_type": "stream",
     "text": [
      "Hello world \n",
      "\n",
      "I hope you're doing well today \n",
      "\n"
     ]
    }
   ],
   "source": [
    "with open(\"myfile.txt\", \"w\") as f:\n",
    "    f.write(\"Hello world \\n\")\n",
    "    f.write(\"I hope you're doing well today \\n\")\n",
    "    f.write(\"This is a text file \\n\")\n",
    "    f.write(\"Have a nice time \\n\")\n",
    "\n",
    "with open(\"myfile.txt\") as f:\n",
    "    line_count = 0\n",
    "    for line in f:\n",
    "        if line_count < 2 :\n",
    "            print(line)\n",
    "            line_count += 1"
   ]
  },
  {
   "cell_type": "code",
   "execution_count": null,
   "id": "eb28f048-64f1-49c8-8b20-dbb529c63228",
   "metadata": {},
   "outputs": [],
   "source": []
  },
  {
   "cell_type": "markdown",
   "id": "cd8e6f7d-3321-4cbe-bf4f-a32e0f93994f",
   "metadata": {},
   "source": [
    "Q6. Explain the write() and writelines() functions. Give a suitable example.\n"
   ]
  },
  {
   "cell_type": "markdown",
   "id": "249f76be-b01d-490d-8905-f8faa99f9d45",
   "metadata": {},
   "source": [
    "write() funtion is used write string to stream. it returns the number of characters written (which is always equal to\n",
    "the length of the string).\n",
    "\n",
    "writelines() is used to write a list of srings to stream."
   ]
  },
  {
   "cell_type": "code",
   "execution_count": 26,
   "id": "576ed131-d793-405d-9d21-bbc1b6f1301e",
   "metadata": {},
   "outputs": [
    {
     "name": "stdout",
     "output_type": "stream",
     "text": [
      "Hello world \n",
      "\n",
      "I hope you're doing well today \n",
      "\n",
      "This is a text file \n",
      "\n",
      "Have a nice time \n",
      "\n"
     ]
    }
   ],
   "source": [
    "with open(\"myfile.txt\", \"w\") as f:\n",
    "    f.write(\"Hello world \\n\")\n",
    "    f.writelines([\"I hope you're doing well today \\n\",\"This is a text file \\n\",\"Have a nice time \\n\"])\n",
    "\n",
    "with open(\"myfile.txt\") as f:\n",
    "    for line in f:\n",
    "        print(line)"
   ]
  },
  {
   "cell_type": "code",
   "execution_count": null,
   "id": "7b79aa0b-9571-4b0f-9eed-3b5a3591c032",
   "metadata": {},
   "outputs": [],
   "source": []
  },
  {
   "cell_type": "code",
   "execution_count": null,
   "id": "cf4f1c9e-190f-4016-be42-b77b991d6ece",
   "metadata": {},
   "outputs": [],
   "source": []
  }
 ],
 "metadata": {
  "kernelspec": {
   "display_name": "Python 3 (ipykernel)",
   "language": "python",
   "name": "python3"
  },
  "language_info": {
   "codemirror_mode": {
    "name": "ipython",
    "version": 3
   },
   "file_extension": ".py",
   "mimetype": "text/x-python",
   "name": "python",
   "nbconvert_exporter": "python",
   "pygments_lexer": "ipython3",
   "version": "3.10.8"
  }
 },
 "nbformat": 4,
 "nbformat_minor": 5
}
