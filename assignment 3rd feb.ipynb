{
 "cells": [
  {
   "cell_type": "markdown",
   "id": "6e6deed1-e756-456b-b05a-a949e8e52748",
   "metadata": {},
   "source": [
    "Q1. Which keyword is used to create a function? Create a function to return a list of odd numbers in the\n",
    "range of 1 to 25."
   ]
  },
  {
   "cell_type": "code",
   "execution_count": null,
   "id": "7958ae4d-d42c-4d9d-8547-3a1b53ebe812",
   "metadata": {},
   "outputs": [],
   "source": [
    "###   def keyword is used to create the function.\n",
    "\n",
    "# e.g. \n",
    "\n",
    "def my_function() :\n",
    "    print(\"Hello world!\")"
   ]
  },
  {
   "cell_type": "code",
   "execution_count": 3,
   "id": "a281b9c0-b2e3-415d-823e-1c47f5647f68",
   "metadata": {},
   "outputs": [
    {
     "name": "stdin",
     "output_type": "stream",
     "text": [
      "Enter the range till you need odd numbers :  25\n"
     ]
    },
    {
     "data": {
      "text/plain": [
       "[1, 3, 5, 7, 9, 11, 13, 15, 17, 19, 21, 23, 25]"
      ]
     },
     "execution_count": 3,
     "metadata": {},
     "output_type": "execute_result"
    }
   ],
   "source": [
    "def odds(r):\n",
    "    return [i for i in range(1,r+1) if i%2 != 0 ]\n",
    "\n",
    "odds(int(input(\"Enter the range till you need odd numbers : \")))"
   ]
  },
  {
   "cell_type": "code",
   "execution_count": null,
   "id": "c95c941b-a4dc-4797-90f8-619186dbee4f",
   "metadata": {},
   "outputs": [],
   "source": []
  },
  {
   "cell_type": "markdown",
   "id": "21c413b2-dea2-4a3d-b7e4-976acf4c1b5e",
   "metadata": {},
   "source": [
    "Q2. Why *args and **kwargs is used in some functions? Create a function each for *args and **kwargs\n",
    "to demonstrate their use."
   ]
  },
  {
   "cell_type": "markdown",
   "id": "7431b2ab-db45-4db8-b937-66c7cb73cc41",
   "metadata": {},
   "source": [
    "*args (Non-Keyword Arguments)\n",
    "\n",
    "**kwargs (Keyword Arguments)\n",
    "\n",
    "To use variable numbers of arguments in function we use * and ** notations with the argument name.\n"
   ]
  },
  {
   "cell_type": "code",
   "execution_count": 6,
   "id": "0f4c8514-bf1e-4b14-a607-240035188dee",
   "metadata": {},
   "outputs": [
    {
     "name": "stdout",
     "output_type": "stream",
     "text": [
      "[1, 2, 3, 4, 5, 6]\n"
     ]
    }
   ],
   "source": [
    "# Example for *args\n",
    "\n",
    "def variable_args(*args) :\n",
    "    print([i for i in args])\n",
    "    \n",
    "variable_args(1,2,3,4,5,6)"
   ]
  },
  {
   "cell_type": "code",
   "execution_count": 13,
   "id": "5ccbfe09-efd3-467a-bfdc-baa72208ad10",
   "metadata": {},
   "outputs": [
    {
     "name": "stdout",
     "output_type": "stream",
     "text": [
      "{'a': 1, 'b': 2, 'c': 3, 'd': 4}\n"
     ]
    }
   ],
   "source": [
    "# Example for **kwargs\n",
    "def variable_args(**args) :\n",
    "    print({k : v for k, v  in args.items()})\n",
    "    \n",
    "variable_args( a = 1, b = 2, c = 3, d = 4)"
   ]
  },
  {
   "cell_type": "code",
   "execution_count": null,
   "id": "fbfcea8d-787f-4d5f-8f26-02b8f1741d7f",
   "metadata": {},
   "outputs": [],
   "source": []
  },
  {
   "cell_type": "markdown",
   "id": "10ee3770-9ea4-43cd-af7f-875af97c4c4b",
   "metadata": {},
   "source": [
    "Q3. What is an iterator in python? Name the method used to initialise the iterator object and the method\n",
    "used for iteration. Use these methods to print the first five elements of the given list [2, 4, 6, 8, 10, 12, 14,\n",
    "16, 18, 20]."
   ]
  },
  {
   "cell_type": "markdown",
   "id": "89f1235e-fbf1-4d7e-abcf-3728a6e263b4",
   "metadata": {},
   "source": [
    "iterator is an object that is used to iterate over iterables like tuple, list, dictionary, set etc.\n",
    "\n",
    "iter() method is used to initialize\n",
    "\n",
    "next() method is used to iterate\n"
   ]
  },
  {
   "cell_type": "code",
   "execution_count": 15,
   "id": "b792204a-2722-4e1b-a018-10a963731b2d",
   "metadata": {},
   "outputs": [
    {
     "name": "stdout",
     "output_type": "stream",
     "text": [
      "2\n",
      "4\n",
      "6\n",
      "8\n",
      "10\n"
     ]
    }
   ],
   "source": [
    "# function to print first five elements of an iterable\n",
    "def iterator(l) :\n",
    "    myiter = iter(l)\n",
    "    for i in range(5) :\n",
    "        print(next(myiter))\n",
    "\n",
    "iterator([2, 4, 6, 8, 10, 12, 14, 16, 18, 20])"
   ]
  },
  {
   "cell_type": "code",
   "execution_count": null,
   "id": "a6613407-2834-40cf-aebf-5d3dbaedc059",
   "metadata": {},
   "outputs": [],
   "source": []
  },
  {
   "cell_type": "markdown",
   "id": "2f43ec12-8c01-452d-82f9-d3d722e0c7e9",
   "metadata": {},
   "source": [
    "Q4. What is a generator function in python? Why yield keyword is used? Give an example of a generator\n",
    "function."
   ]
  },
  {
   "cell_type": "markdown",
   "id": "f26696aa-f2e0-4300-beda-11460ce15ff3",
   "metadata": {},
   "source": [
    "Generator function returns an iterable object that produes a sequence of values when iterated over.\n",
    "\n",
    "Yield keyword is used to create a generator function. A type of function that is memory efficient and can be used like an iterator object.\n",
    "The yield statement suspends function’s execution and sends a value back to the caller, but retains its state to enable function to resume where it is left off. \n",
    "When resumed, the function continues execution immediately after the last yield run. \n",
    "This allows its code to produce a series of values over time, rather than computing them at once and sending them back like a list.\n",
    "\n"
   ]
  },
  {
   "cell_type": "code",
   "execution_count": 18,
   "id": "1f85cc3d-d468-4589-b511-68a1fb178d14",
   "metadata": {},
   "outputs": [
    {
     "name": "stdout",
     "output_type": "stream",
     "text": [
      "1 2 3 4 5 6 7 8 9 10 "
     ]
    }
   ],
   "source": [
    "def sequence():\n",
    "    num = 1\n",
    "    while num <= 10 :\n",
    "        yield num\n",
    "        num += 1\n",
    "         \n",
    "for i in sequence():\n",
    "    print(i, end=\" \")"
   ]
  },
  {
   "cell_type": "code",
   "execution_count": null,
   "id": "1e092b4f-1001-46a3-bd18-05557114cedc",
   "metadata": {},
   "outputs": [],
   "source": []
  },
  {
   "cell_type": "markdown",
   "id": "9f7dbc06-54df-4cb9-958c-79c84d0e4de6",
   "metadata": {},
   "source": [
    "Q5. Create a generator function for prime numbers less than 1000. Use the next() method to print the\n",
    "first 20 prime numbers."
   ]
  },
  {
   "cell_type": "code",
   "execution_count": null,
   "id": "67cfe190-034b-42b7-a331-be38c06973f0",
   "metadata": {},
   "outputs": [],
   "source": []
  },
  {
   "cell_type": "code",
   "execution_count": 1,
   "id": "7e5eb943-b814-46c9-abee-4d7d17fac671",
   "metadata": {},
   "outputs": [
    {
     "name": "stdout",
     "output_type": "stream",
     "text": [
      "2\n",
      "3\n",
      "5\n",
      "7\n",
      "11\n",
      "13\n",
      "17\n",
      "19\n",
      "23\n",
      "29\n",
      "31\n",
      "37\n",
      "41\n",
      "43\n",
      "47\n",
      "53\n",
      "59\n",
      "61\n",
      "67\n",
      "71\n"
     ]
    }
   ],
   "source": [
    "def primes() :\n",
    "    num = 2\n",
    "   \n",
    "    for num in range(2,1000) :\n",
    "        prime=True\n",
    "        for i in range(2,num) :\n",
    "            if (num % i) == 0 :\n",
    "                prime = False\n",
    "                break\n",
    "        if prime :\n",
    "            yield num\n",
    "\n",
    "prime = primes()\n",
    "for i in range(20) :\n",
    "    print(next(prime))"
   ]
  },
  {
   "cell_type": "code",
   "execution_count": null,
   "id": "2ae54109-1bc5-434c-ac9a-d0f5d1fb963b",
   "metadata": {},
   "outputs": [],
   "source": []
  },
  {
   "cell_type": "markdown",
   "id": "be477be1-6f6a-4e0c-8142-c3757292d39b",
   "metadata": {},
   "source": [
    "Q6. Write a python program to print the first 10 Fibonacci numbers using a while loop."
   ]
  },
  {
   "cell_type": "code",
   "execution_count": 2,
   "id": "d60f4515-e597-47d2-8743-3eaf5a1cd13e",
   "metadata": {},
   "outputs": [
    {
     "name": "stdout",
     "output_type": "stream",
     "text": [
      "[0, 1, 1, 2, 3, 5, 8, 13, 21, 34]\n"
     ]
    }
   ],
   "source": [
    "def fibbo() :\n",
    "    a,b = 0,1\n",
    "    count = 1\n",
    "    l = [a,b]\n",
    "    \n",
    "    while count <= 8 :\n",
    "        c = a + b\n",
    "        a = b\n",
    "        b = c\n",
    "        l.append(c)\n",
    "        count += 1\n",
    "        \n",
    "    return l\n",
    "\n",
    "print(fibbo())"
   ]
  },
  {
   "cell_type": "code",
   "execution_count": null,
   "id": "244f68fc-2d4f-4168-a510-f9c4cffb40c6",
   "metadata": {},
   "outputs": [],
   "source": []
  },
  {
   "cell_type": "markdown",
   "id": "3a9a1cc1-0499-467f-beea-f5848bdcd3e2",
   "metadata": {},
   "source": [
    "Q7. Write a List Comprehension to iterate through the given string: ‘pwskills’.\n",
    "Expected output: ['p', 'w', 's', 'k', 'i', 'l', 'l', 's']"
   ]
  },
  {
   "cell_type": "code",
   "execution_count": 4,
   "id": "a36f8dd3-10a2-425c-bba8-92241d09ec5b",
   "metadata": {},
   "outputs": [
    {
     "data": {
      "text/plain": [
       "['p', 'w', 's', 'k', 'i', 'l', 'l', 's']"
      ]
     },
     "execution_count": 4,
     "metadata": {},
     "output_type": "execute_result"
    }
   ],
   "source": [
    "[i for i in 'pwskills']"
   ]
  },
  {
   "cell_type": "code",
   "execution_count": null,
   "id": "fd72b2bf-7645-4ee2-a4f4-43a7828cae17",
   "metadata": {},
   "outputs": [],
   "source": []
  },
  {
   "cell_type": "markdown",
   "id": "f72018da-6035-4042-b0e6-710725287916",
   "metadata": {},
   "source": [
    "Q8. Write a python program to check whether a given number is Palindrome or not using a while loop."
   ]
  },
  {
   "cell_type": "code",
   "execution_count": 16,
   "id": "f96ae44f-ba64-42fe-83db-bf7a3354dfd8",
   "metadata": {},
   "outputs": [
    {
     "name": "stdout",
     "output_type": "stream",
     "text": [
      "112211  is palindrome\n",
      "4582  is not palindrome\n",
      "1001  is palindrome\n"
     ]
    }
   ],
   "source": [
    "def is_palindrome(num) :\n",
    "    orignal = num\n",
    "    new = 0\n",
    "    while num > 0 :\n",
    "        new = new * 10 + (num % 10)\n",
    "        num = int(num / 10)\n",
    "    if orignal == new :\n",
    "        print(orignal, \" is palindrome\")\n",
    "    else :\n",
    "        print(orignal, \" is not palindrome\")\n",
    "\n",
    "is_palindrome(112211)\n",
    "is_palindrome(4582)\n",
    "is_palindrome(1001)\n"
   ]
  },
  {
   "cell_type": "code",
   "execution_count": null,
   "id": "16572d83-a623-43b2-b704-83ec4e2f0b79",
   "metadata": {},
   "outputs": [],
   "source": []
  },
  {
   "cell_type": "markdown",
   "id": "ce0cc757-4eb1-4510-9086-af1b1a5fc601",
   "metadata": {},
   "source": [
    "Q9. Write a code to print odd numbers from 1 to 100 using list comprehension.\n",
    "Note: Use a list comprehension to create a list from 1 to 100 and use another List comprehension to filter\n",
    "out odd numbers."
   ]
  },
  {
   "cell_type": "code",
   "execution_count": 22,
   "id": "1bec06d1-ff20-4c44-ac32-1aa6af24ab01",
   "metadata": {},
   "outputs": [
    {
     "name": "stdout",
     "output_type": "stream",
     "text": [
      "1\n",
      "3\n",
      "5\n",
      "7\n",
      "9\n",
      "11\n",
      "13\n",
      "15\n",
      "17\n",
      "19\n",
      "21\n",
      "23\n",
      "25\n",
      "27\n",
      "29\n",
      "31\n",
      "33\n",
      "35\n",
      "37\n",
      "39\n",
      "41\n",
      "43\n",
      "45\n",
      "47\n",
      "49\n",
      "51\n",
      "53\n",
      "55\n",
      "57\n",
      "59\n",
      "61\n",
      "63\n",
      "65\n",
      "67\n",
      "69\n",
      "71\n",
      "73\n",
      "75\n",
      "77\n",
      "79\n",
      "81\n",
      "83\n",
      "85\n",
      "87\n",
      "89\n",
      "91\n",
      "93\n",
      "95\n",
      "97\n",
      "99\n"
     ]
    }
   ],
   "source": [
    "l1 = [i for i in range(1,101)] \n",
    "\n",
    "l2 = [i for i in l1 if i % 2 != 0]\n",
    "\n",
    "for i in l2 : \n",
    "    print(i)"
   ]
  },
  {
   "cell_type": "code",
   "execution_count": null,
   "id": "dfb6ea2b-8b0a-4b33-84d0-9591b1db8991",
   "metadata": {},
   "outputs": [],
   "source": []
  },
  {
   "cell_type": "code",
   "execution_count": null,
   "id": "402dced1-5dd8-4c3d-8515-b75f980f65bc",
   "metadata": {},
   "outputs": [],
   "source": []
  }
 ],
 "metadata": {
  "kernelspec": {
   "display_name": "Python 3 (ipykernel)",
   "language": "python",
   "name": "python3"
  },
  "language_info": {
   "codemirror_mode": {
    "name": "ipython",
    "version": 3
   },
   "file_extension": ".py",
   "mimetype": "text/x-python",
   "name": "python",
   "nbconvert_exporter": "python",
   "pygments_lexer": "ipython3",
   "version": "3.10.8"
  }
 },
 "nbformat": 4,
 "nbformat_minor": 5
}
