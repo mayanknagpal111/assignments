{
 "cells": [
  {
   "cell_type": "markdown",
   "id": "13eb026b-03c8-4452-90cf-3d0953e84220",
   "metadata": {},
   "source": [
    "Q1. What is Abstraction in OOps? Explain with an example."
   ]
  },
  {
   "cell_type": "markdown",
   "id": "9215f73a-6100-4d0b-bcf0-fed02eae72b6",
   "metadata": {},
   "source": [
    "The process by which data and functions are defined in such a way that only essential details can be seen and unnecessary implementations are hidden is called Data Abstraction.\n",
    "Data Abstraction in Python can be achieved through creating abstract classes and inheriting them later. \n"
   ]
  },
  {
   "cell_type": "code",
   "execution_count": 6,
   "id": "1830690c-c821-45cc-8250-e8e0bc670820",
   "metadata": {},
   "outputs": [
    {
     "name": "stdout",
     "output_type": "stream",
     "text": [
      "I am going to sleep in a while\n",
      "Cat can meow\n",
      "Snake can hiss\n",
      "I am going to sleep in a while\n",
      "Dog can bark\n"
     ]
    }
   ],
   "source": [
    "## Example of Abstraction\n",
    "from abc import ABC, abstractmethod\n",
    " \n",
    "class Animal(ABC):\n",
    " \n",
    "    #concrete method\n",
    "    def sleep(self):\n",
    "        print(\"I am going to sleep in a while\")\n",
    " \n",
    "    @abstractmethod\n",
    "    def sound(self):\n",
    "        print(\"This function is for defining the sound by any animal\")\n",
    "        pass\n",
    " \n",
    "class Snake(Animal):\n",
    "    def sound(self):\n",
    "        print(\"Snake can hiss\")\n",
    " \n",
    "class Dog(Animal):\n",
    "    def sound(self):\n",
    "        print(\"Dog can bark\")\n",
    " \n",
    "class Lion(Animal):\n",
    "    def sound(self):\n",
    "        print(\"Lion can roar\")\n",
    "       \n",
    "class Cat(Animal):\n",
    "    def sound(self):\n",
    "        print(\"Cat can meow\")\n",
    "        \n",
    "\n",
    "c = Cat()\n",
    "c.sleep()\n",
    "c.sound()\n",
    " \n",
    "s = Snake()\n",
    "s.sound()\n",
    "\n",
    "d = Dog()\n",
    "d.sleep()\n",
    "d.sound()"
   ]
  },
  {
   "cell_type": "code",
   "execution_count": null,
   "id": "7fcd074c-cd85-40a0-903b-d432986a5232",
   "metadata": {},
   "outputs": [],
   "source": []
  },
  {
   "cell_type": "markdown",
   "id": "c98bf930-98ec-4996-9258-692ef324bced",
   "metadata": {},
   "source": [
    "Q2. Differentiate between Abstraction and Encapsulation. Explain with an example."
   ]
  },
  {
   "cell_type": "markdown",
   "id": "3d56f9fa-8243-4a03-be11-24efa712a5df",
   "metadata": {},
   "source": [
    "Encapsulation: Wrapping code and data together into a single unit. Class is an example of encapsulation, because it wraps the method and property.\n",
    "\n",
    "Abstraction: Hiding internal details and showing functionality only. Abstraction focus on what the object does instead of how it does. It provides generalized view of classes.\n",
    "\n",
    "Let us take a real world example of calculator. Encapsulation is the internal circuits, battery, etc., that combine to make it a calculator. Abstraction is the different buttons like on-off, clear and other buttons provided to operate it."
   ]
  },
  {
   "cell_type": "code",
   "execution_count": 8,
   "id": "68e5eead-7714-44e6-b594-bf28a449b63a",
   "metadata": {},
   "outputs": [
    {
     "name": "stdout",
     "output_type": "stream",
     "text": [
      "Name:  Mayank Salary: 10000\n"
     ]
    }
   ],
   "source": [
    "# example of encapsulation\n",
    "class Employee:\n",
    "    def __init__(self, name, salary):\n",
    "        # public data member\n",
    "        self.name = name\n",
    "        # private member\n",
    "        self.__salary = salary\n",
    "    \n",
    "    # public instance methods\n",
    "    def show(self):\n",
    "        # private members are accessible from a class\n",
    "        print(\"Name: \", self.name, 'Salary:', self.__salary)\n",
    "\n",
    "emp = Employee('Mayank', 10000)\n",
    "\n",
    "# calling public method of the class\n",
    "emp.show()"
   ]
  },
  {
   "cell_type": "code",
   "execution_count": 9,
   "id": "4b8a3d17-bef6-4e34-b105-e26fa8228154",
   "metadata": {},
   "outputs": [
    {
     "name": "stdout",
     "output_type": "stream",
     "text": [
      "Subject is Maths\n",
      "Subject is Physics\n",
      "Subject is Chemistry\n",
      "Subject is English\n"
     ]
    }
   ],
   "source": [
    "# Example of Abstraction\n",
    "from abc import ABC,abstractmethod\n",
    "# abstract class\n",
    "class Subject(ABC):\n",
    "    @abstractmethod\n",
    "    def subject(self):\n",
    "        pass\n",
    "class Maths(Subject):\n",
    "    # override superclass method\n",
    "    def subject(self):\n",
    "        print(\"Subject is Maths\")\n",
    "class Physics(Subject):\n",
    "    # override superclass method\n",
    "    def subject(self):\n",
    "        print(\"Subject is Physics\")\n",
    "class Chemistry(Subject):\n",
    "    # override superclass method\n",
    "    def subject(self):\n",
    "        print(\"Subject is Chemistry\")\n",
    "class English(Subject):\n",
    "    # override superclass method\n",
    "    def subject(self):\n",
    "        print(\"Subject is English\")\n",
    "maths=Maths()\n",
    "maths.subject()\n",
    "physics=Physics()\n",
    "physics.subject()\n",
    "chemistry=Chemistry()\n",
    "chemistry.subject()\n",
    "english=English()\n",
    "english.subject()"
   ]
  },
  {
   "cell_type": "code",
   "execution_count": null,
   "id": "1fdda0ff-270d-4867-8781-30416a0cd6de",
   "metadata": {},
   "outputs": [],
   "source": []
  },
  {
   "cell_type": "markdown",
   "id": "481fb35d-7311-44a8-9da3-50fb88887fbf",
   "metadata": {},
   "source": [
    "Q3. What is abc module in python? Why is it used?"
   ]
  },
  {
   "cell_type": "markdown",
   "id": "971f40de-1ce2-46d9-85cf-c50f2762ee8f",
   "metadata": {},
   "source": [
    "The 'abc' module in Python library provides the infrastructure for defining custom abstract base classes.\n",
    "\n",
    "'abc' works by marking methods of the base class as abstract. This is done by @absttractmethod decorator.\n",
    "\n",
    "The main goal of the abstract base class is to provide a standardized way to test whether an object adheres to a given specification. It can also prevent any attempt to instantiate a subclass that doesn’t override a particular method in the superclass. And finally, using an abstract class, a class can derive identity from another class without any object inheritance."
   ]
  },
  {
   "cell_type": "code",
   "execution_count": null,
   "id": "47448930-98ae-4b87-8a63-4e18fbcdfabb",
   "metadata": {},
   "outputs": [],
   "source": []
  },
  {
   "cell_type": "markdown",
   "id": "f15343a1-de79-4712-b723-cae9a3facd2a",
   "metadata": {},
   "source": [
    "Q4. How can we achieve data abstraction?"
   ]
  },
  {
   "cell_type": "markdown",
   "id": "647a35f8-fb37-4d10-bbdc-dee363e06e71",
   "metadata": {},
   "source": [
    "Abstraction can be achieved by having/using abstract classes and methods in our programs.\n"
   ]
  },
  {
   "cell_type": "code",
   "execution_count": 10,
   "id": "3e667b8d-f47d-4a95-beec-322c8ad9248d",
   "metadata": {},
   "outputs": [
    {
     "name": "stdout",
     "output_type": "stream",
     "text": [
      "Subject is Maths\n",
      "Subject is Physics\n",
      "Subject is Chemistry\n",
      "Subject is English\n"
     ]
    }
   ],
   "source": [
    "# Example of Abstraction\n",
    "from abc import ABC,abstractmethod\n",
    "# abstract class\n",
    "class Subject(ABC):\n",
    "    @abstractmethod\n",
    "    def subject(self):\n",
    "        pass\n",
    "class Maths(Subject):\n",
    "    # override superclass method\n",
    "    def subject(self):\n",
    "        print(\"Subject is Maths\")\n",
    "class Physics(Subject):\n",
    "    # override superclass method\n",
    "    def subject(self):\n",
    "        print(\"Subject is Physics\")\n",
    "class Chemistry(Subject):\n",
    "    # override superclass method\n",
    "    def subject(self):\n",
    "        print(\"Subject is Chemistry\")\n",
    "class English(Subject):\n",
    "    # override superclass method\n",
    "    def subject(self):\n",
    "        print(\"Subject is English\")\n",
    "maths=Maths()\n",
    "maths.subject()\n",
    "physics=Physics()\n",
    "physics.subject()\n",
    "chemistry=Chemistry()\n",
    "chemistry.subject()\n",
    "english=English()\n",
    "english.subject()"
   ]
  },
  {
   "cell_type": "code",
   "execution_count": null,
   "id": "5b55c336-24be-4edc-951f-b147bae66853",
   "metadata": {},
   "outputs": [],
   "source": []
  },
  {
   "cell_type": "markdown",
   "id": "7728b1de-02cc-414b-b3cd-1afcbba85bb5",
   "metadata": {},
   "source": [
    "Q5. Can we create an instance of an abstract class? Explain your answer."
   ]
  },
  {
   "cell_type": "markdown",
   "id": "20e8b42f-3f2c-4406-8cc2-94f7074537a3",
   "metadata": {},
   "source": [
    "Abstract classes cannot be instantiated, but they can be subclassed. \n",
    "\n",
    "When an abstract class is subclassed, the subclass usually provides implementations for all of the abstract methods in its parent class. However, if it does not, then the subclass must also be declared abstract.\n",
    "\n",
    "Abstract classes have abstract methods that do not have any implementations, these are just the blueprints. "
   ]
  },
  {
   "cell_type": "code",
   "execution_count": null,
   "id": "49e72409-f822-4144-9651-214f281a66e8",
   "metadata": {},
   "outputs": [],
   "source": []
  }
 ],
 "metadata": {
  "kernelspec": {
   "display_name": "Python 3 (ipykernel)",
   "language": "python",
   "name": "python3"
  },
  "language_info": {
   "codemirror_mode": {
    "name": "ipython",
    "version": 3
   },
   "file_extension": ".py",
   "mimetype": "text/x-python",
   "name": "python",
   "nbconvert_exporter": "python",
   "pygments_lexer": "ipython3",
   "version": "3.10.8"
  }
 },
 "nbformat": 4,
 "nbformat_minor": 5
}
