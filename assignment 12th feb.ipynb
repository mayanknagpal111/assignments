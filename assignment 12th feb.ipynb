{
 "cells": [
  {
   "cell_type": "markdown",
   "id": "491b8f25-3901-4ce0-b5c5-a1c8caa4b345",
   "metadata": {},
   "source": [
    "Q1. What is an Exception in python? Write the difference between Exceptions and Syntax errors."
   ]
  },
  {
   "cell_type": "markdown",
   "id": "85a562b7-b018-4d6b-843d-bb8d93c528c0",
   "metadata": {},
   "source": [
    "When in the runtime an error that occurs after passing the syntax test is called an Exception. \n",
    "For example, when we divide any number by zero then the ZeroDivisionError exception is raised, or when we import a module that does not exist then ImportError is raised.\n",
    "\n",
    "When the proper syntax of the language is not followed then a syntax error is thrown."
   ]
  },
  {
   "cell_type": "code",
   "execution_count": 1,
   "id": "af7524ac-50f4-44b3-882e-4b9cfae32fe0",
   "metadata": {},
   "outputs": [
    {
     "ename": "SyntaxError",
     "evalue": "'return' outside function (2380961626.py, line 1)",
     "output_type": "error",
     "traceback": [
      "\u001b[0;36m  Cell \u001b[0;32mIn[1], line 1\u001b[0;36m\u001b[0m\n\u001b[0;31m    return \"something\"\u001b[0m\n\u001b[0m    ^\u001b[0m\n\u001b[0;31mSyntaxError\u001b[0m\u001b[0;31m:\u001b[0m 'return' outside function\n"
     ]
    }
   ],
   "source": [
    "return \"something\""
   ]
  },
  {
   "cell_type": "code",
   "execution_count": null,
   "id": "e4b4e364-f2b2-4852-a401-741e595c71d8",
   "metadata": {},
   "outputs": [],
   "source": []
  },
  {
   "cell_type": "markdown",
   "id": "1f86105d-999e-481c-82e1-261b9971f858",
   "metadata": {},
   "source": [
    "Q2. What happens when an exception is not handled? Explain with an example"
   ]
  },
  {
   "cell_type": "markdown",
   "id": "1c5226c9-6b57-447f-9771-77f73d1e6273",
   "metadata": {},
   "source": [
    "If an exception is not handled it will terminate the execution and will produce a traceback.\n",
    "\n",
    "E.g.\n",
    "#following line of code will produce a ZeroDivisionError with the traceback as given further below\n",
    "\n",
    "i = 10/0\n",
    "\n",
    "\n",
    "\n",
    "---------------------------------------------------------------------------\n",
    "ZeroDivisionError                         Traceback (most recent call last)\n",
    "Cell In[3], line 1\n",
    "----> 1 i = 10/0\n",
    "\n",
    "ZeroDivisionError: division by zero\n",
    "\n"
   ]
  },
  {
   "cell_type": "code",
   "execution_count": null,
   "id": "14c7c15d-7ed2-4239-a949-af9501065e1b",
   "metadata": {},
   "outputs": [],
   "source": []
  },
  {
   "cell_type": "markdown",
   "id": "0c3335e3-75de-46e7-b959-f55cb93c5156",
   "metadata": {},
   "source": [
    "Q3. Which Python statements are used to catch and handle exceptions? Explain with an example"
   ]
  },
  {
   "cell_type": "markdown",
   "id": "9c7b9757-e715-4872-bf13-96fa3e44421b",
   "metadata": {},
   "source": [
    "The try and except block in Python is used to catch and handle exceptions. \n",
    "Python executes code following the try statement as a “normal” part of the program. The code that follows the except statement is the program’s response to any exceptions in the preceding try clause.\n"
   ]
  },
  {
   "cell_type": "code",
   "execution_count": 5,
   "id": "51cde08d-7ecf-4ac7-8e17-b90a46d2286b",
   "metadata": {},
   "outputs": [
    {
     "name": "stdout",
     "output_type": "stream",
     "text": [
      "[Errno 2] No such file or directory: 'file.log'\n"
     ]
    }
   ],
   "source": [
    "try:\n",
    "    #try to open a file that does not exist\n",
    "    with open('file.log','r') as file:\n",
    "        read_data = file.read()\n",
    "except FileNotFoundError as fnf_error:\n",
    "    print(fnf_error)\n",
    "    \n",
    "#output from above code will be [Errno 2] No such file or directory: 'file.log'"
   ]
  },
  {
   "cell_type": "code",
   "execution_count": null,
   "id": "a1ea063b-2504-44e8-a7e3-3c037120d0bd",
   "metadata": {},
   "outputs": [],
   "source": []
  },
  {
   "cell_type": "markdown",
   "id": "6f0b2161-7fb3-4663-b47c-3e410888ea0a",
   "metadata": {},
   "source": [
    "Q4. Explain with an example:\n",
    "    \n",
    "a. try and else\n",
    "b. finally\n",
    "c. raise"
   ]
  },
  {
   "cell_type": "markdown",
   "id": "54881834-b090-4380-888b-8c1e57779980",
   "metadata": {},
   "source": [
    "Try: This block will test the excepted error to occur\n",
    "\n",
    "Else: If there is no exception then this block will be executed\n",
    "\n",
    "Finally: Finally block always gets executed either exception is generated or not\n",
    "\n",
    "Raise: The raise keyword raises an error and stops the control flow of the program. It is used to bring up the current exception in an exception handler so that it can be handled further up the call stack."
   ]
  },
  {
   "cell_type": "code",
   "execution_count": 8,
   "id": "29e21085-186d-465c-9f54-59aca05bbc36",
   "metadata": {},
   "outputs": [
    {
     "name": "stdout",
     "output_type": "stream",
     "text": [
      "Yeah ! Your answer is : 1\n",
      "This is always executed\n",
      "Sorry ! You are dividing by zero \n",
      "This is always executed\n"
     ]
    },
    {
     "data": {
      "text/plain": [
       "' \\noutput from above code is as follows\\n\\nYeah ! Your answer is : 1\\nThis is always executed\\nSorry ! You are dividing by zero \\nThis is always executed\\n\\n'"
      ]
     },
     "execution_count": 8,
     "metadata": {},
     "output_type": "execute_result"
    }
   ],
   "source": [
    "def divide(x, y):\n",
    "    try:\n",
    "        result = x // y\n",
    "    except ZeroDivisionError:\n",
    "        print(\"Sorry ! You are dividing by zero \")\n",
    "    else:\n",
    "        print(\"Yeah ! Your answer is :\", result)\n",
    "    finally: \n",
    "        print('This is always executed')  \n",
    "        \n",
    "divide(3, 2)\n",
    "divide(3, 0)\n",
    "\n",
    "\"\"\" \n",
    "output from above code is as follows\n",
    "\n",
    "Yeah ! Your answer is : 1\n",
    "This is always executed\n",
    "Sorry ! You are dividing by zero \n",
    "This is always executed\n",
    "\n",
    "\"\"\""
   ]
  },
  {
   "cell_type": "code",
   "execution_count": 9,
   "id": "921bd6b5-2c92-4e27-9e74-ebc810b3da4a",
   "metadata": {},
   "outputs": [
    {
     "ename": "ValueError",
     "evalue": "String can't be changed into integer",
     "output_type": "error",
     "traceback": [
      "\u001b[0;31m---------------------------------------------------------------------------\u001b[0m",
      "\u001b[0;31mValueError\u001b[0m                                Traceback (most recent call last)",
      "Cell \u001b[0;32mIn[9], line 4\u001b[0m\n\u001b[1;32m      3\u001b[0m \u001b[38;5;28;01mtry\u001b[39;00m:\n\u001b[0;32m----> 4\u001b[0m     num \u001b[38;5;241m=\u001b[39m \u001b[38;5;28;43mint\u001b[39;49m\u001b[43m(\u001b[49m\u001b[43ms\u001b[49m\u001b[43m)\u001b[49m\n\u001b[1;32m      5\u001b[0m \u001b[38;5;28;01mexcept\u001b[39;00m \u001b[38;5;167;01mValueError\u001b[39;00m:\n",
      "\u001b[0;31mValueError\u001b[0m: invalid literal for int() with base 10: 'mayank'",
      "\nDuring handling of the above exception, another exception occurred:\n",
      "\u001b[0;31mValueError\u001b[0m                                Traceback (most recent call last)",
      "Cell \u001b[0;32mIn[9], line 6\u001b[0m\n\u001b[1;32m      4\u001b[0m     num \u001b[38;5;241m=\u001b[39m \u001b[38;5;28mint\u001b[39m(s)\n\u001b[1;32m      5\u001b[0m \u001b[38;5;28;01mexcept\u001b[39;00m \u001b[38;5;167;01mValueError\u001b[39;00m:\n\u001b[0;32m----> 6\u001b[0m     \u001b[38;5;28;01mraise\u001b[39;00m \u001b[38;5;167;01mValueError\u001b[39;00m(\u001b[38;5;124m\"\u001b[39m\u001b[38;5;124mString can\u001b[39m\u001b[38;5;124m'\u001b[39m\u001b[38;5;124mt be changed into integer\u001b[39m\u001b[38;5;124m\"\u001b[39m)\n",
      "\u001b[0;31mValueError\u001b[0m: String can't be changed into integer"
     ]
    }
   ],
   "source": [
    "s = 'mayank'\n",
    "  \n",
    "try:\n",
    "    num = int(s)\n",
    "except ValueError:\n",
    "    raise ValueError(\"String can't be changed into integer\")"
   ]
  },
  {
   "cell_type": "code",
   "execution_count": null,
   "id": "0bd866aa-308e-4ad9-a262-0050a6637383",
   "metadata": {},
   "outputs": [],
   "source": []
  },
  {
   "cell_type": "markdown",
   "id": "268a65dc-b37f-4fe6-b97f-1f57142506ab",
   "metadata": {},
   "source": [
    "Q5. What are Custom Exceptions in python? Why do we need Custom Exceptions? Explain with an example"
   ]
  },
  {
   "cell_type": "markdown",
   "id": "e9e63a05-90a7-4bd6-9535-1bea37b8dc83",
   "metadata": {},
   "source": [
    "Custom Exceptions are user defined exceptions. \n",
    "\n",
    "Having custom exceptions - tailored to your specific use cases and that you can raise and catch in specific circumstances - can make your code much more readable and robust, and reduce the amount of code you write later to try and figure out what exactly went wrong.\n"
   ]
  },
  {
   "cell_type": "code",
   "execution_count": 12,
   "id": "2f2e93ac-62b7-4795-a202-54124c335049",
   "metadata": {},
   "outputs": [
    {
     "name": "stdin",
     "output_type": "stream",
     "text": [
      "Enter a number:  0\n"
     ]
    },
    {
     "name": "stdout",
     "output_type": "stream",
     "text": [
      "Input value is zero, try again!\n",
      "\n"
     ]
    }
   ],
   "source": [
    "class Error(Exception):\n",
    "    \"\"\"Base class for other exceptions\"\"\"\n",
    "    pass\n",
    " \n",
    "class zerodivision(Error):\n",
    "    \"\"\"Raised when the input value is zero\"\"\"\n",
    "    pass\n",
    " \n",
    "try:\n",
    "    num = int(input(\"Enter a number: \"))\n",
    "    if num == 0:\n",
    "        raise zerodivision\n",
    "except zerodivision:\n",
    "    print(\"Input value is zero, try again!\")\n",
    "    print()"
   ]
  },
  {
   "cell_type": "code",
   "execution_count": null,
   "id": "92a7d341-5003-401d-8c0a-310614236759",
   "metadata": {},
   "outputs": [],
   "source": []
  },
  {
   "cell_type": "markdown",
   "id": "52b654f9-3601-4289-bd96-46cdff79a684",
   "metadata": {},
   "source": [
    "Q6. Create a custom exception class. Use this class to handle an exception."
   ]
  },
  {
   "cell_type": "code",
   "execution_count": 25,
   "id": "02e3b0bd-f695-4049-9677-bb64bf9fea32",
   "metadata": {},
   "outputs": [
    {
     "ename": "NoLoadOnTruckError",
     "evalue": "The 12345 is empty",
     "output_type": "error",
     "traceback": [
      "\u001b[0;31m---------------------------------------------------------------------------\u001b[0m",
      "\u001b[0;31mNoLoadOnTruckError\u001b[0m                        Traceback (most recent call last)",
      "Cell \u001b[0;32mIn[25], line 12\u001b[0m\n\u001b[1;32m     10\u001b[0m truck_no \u001b[38;5;241m=\u001b[39m \u001b[38;5;241m12345\u001b[39m\n\u001b[1;32m     11\u001b[0m \u001b[38;5;28;01mif\u001b[39;00m load \u001b[38;5;241m==\u001b[39m \u001b[38;5;241m0\u001b[39m:\n\u001b[0;32m---> 12\u001b[0m     \u001b[38;5;28;01mraise\u001b[39;00m NoLoadOnTruckError(truck_no)\n",
      "\u001b[0;31mNoLoadOnTruckError\u001b[0m: The 12345 is empty"
     ]
    }
   ],
   "source": [
    "class NoLoadOnTruckError(Exception):\n",
    "    \"\"\"The truck is empty.\"\"\"\n",
    "    def __init__(self, truck_no=None):\n",
    "        self.msg = f\"The {truck_no} is empty\" if truck_no else \"\"\n",
    "    def __str__(self):\n",
    "        return self.msg\n",
    "        \n",
    "        \n",
    "load = 0\n",
    "truck_no = 12345\n",
    "if load == 0:\n",
    "    raise NoLoadOnTruckError(truck_no)\n"
   ]
  },
  {
   "cell_type": "code",
   "execution_count": null,
   "id": "09c02246-72db-4ef3-a3d0-42eed71fbe63",
   "metadata": {},
   "outputs": [],
   "source": []
  }
 ],
 "metadata": {
  "kernelspec": {
   "display_name": "Python 3 (ipykernel)",
   "language": "python",
   "name": "python3"
  },
  "language_info": {
   "codemirror_mode": {
    "name": "ipython",
    "version": 3
   },
   "file_extension": ".py",
   "mimetype": "text/x-python",
   "name": "python",
   "nbconvert_exporter": "python",
   "pygments_lexer": "ipython3",
   "version": "3.10.8"
  }
 },
 "nbformat": 4,
 "nbformat_minor": 5
}
