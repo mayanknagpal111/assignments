{
 "cells": [
  {
   "cell_type": "markdown",
   "id": "cf440af8-d9c8-4e8a-ad63-5cdc573b25ea",
   "metadata": {},
   "source": [
    "Q1. Write a program to accept percentage from user and display the grade?"
   ]
  },
  {
   "cell_type": "code",
   "execution_count": 7,
   "id": "e24877fb-a245-4e9b-b3ea-5f8e860893a8",
   "metadata": {},
   "outputs": [
    {
     "name": "stdin",
     "output_type": "stream",
     "text": [
      "Enter percentage :  75\n"
     ]
    },
    {
     "name": "stdout",
     "output_type": "stream",
     "text": [
      "Grade C\n"
     ]
    }
   ],
   "source": [
    "percentage = int(input(\"Enter percentage : \"))\n",
    "\n",
    "if percentage > 90 :\n",
    "    print(\"Grade A\")\n",
    "elif percentage > 80 and percentage <=90 :\n",
    "    print(\"Grade B\")\n",
    "elif percentage >= 60 and percentage <=80 :\n",
    "    print(\"Grade C\")\n",
    "elif percentage < 60 :\n",
    "    print(\"Grade D\")"
   ]
  },
  {
   "cell_type": "code",
   "execution_count": null,
   "id": "20ba95d3-aec4-433b-8bc8-c4bed8ecc74d",
   "metadata": {},
   "outputs": [],
   "source": []
  },
  {
   "cell_type": "markdown",
   "id": "a040d718-7d57-4157-aa69-3a108db4a89b",
   "metadata": {},
   "source": [
    "Q2. Program to calculate the road tax"
   ]
  },
  {
   "cell_type": "code",
   "execution_count": 13,
   "id": "5bca3f39-edb2-4a3e-846e-9de5127f9fea",
   "metadata": {},
   "outputs": [
    {
     "name": "stdin",
     "output_type": "stream",
     "text": [
      "Enter cost price of bike :  160000\n"
     ]
    },
    {
     "name": "stdout",
     "output_type": "stream",
     "text": [
      "Road tax is :  24000.0\n"
     ]
    }
   ],
   "source": [
    "cost = int(input(\"Enter cost price of bike : \"))\n",
    "\n",
    "if cost > 100000 :\n",
    "    print(\"Road tax is : \", cost*15/100)\n",
    "elif cost > 50000 and cost < 100000 :\n",
    "    print(\"Road tax is : \", cost*10/100)\n",
    "elif cost <= 50000 :\n",
    "    print(\"Road tax is : \", cost*5/100)"
   ]
  },
  {
   "cell_type": "code",
   "execution_count": null,
   "id": "113b6875-66af-46ba-89e0-d56c7b607d7d",
   "metadata": {},
   "outputs": [],
   "source": []
  },
  {
   "cell_type": "markdown",
   "id": "9735d6a9-e9e9-435a-a0c2-71678bf25cc1",
   "metadata": {},
   "source": [
    "Q3. Show the monument for entered city name."
   ]
  },
  {
   "cell_type": "code",
   "execution_count": 27,
   "id": "ac9313f1-a014-425d-8266-62ef95164431",
   "metadata": {},
   "outputs": [
    {
     "name": "stdin",
     "output_type": "stream",
     "text": [
      "Enter city :  Agra\n"
     ]
    },
    {
     "name": "stdout",
     "output_type": "stream",
     "text": [
      "Taj Mahal\n"
     ]
    }
   ],
   "source": [
    "monuments = {'delhi' : 'Red Fort', 'agra' : 'Taj Mahal', 'jaipur' : 'Jal Mahal'}\n",
    "city = input(\"Enter city : \").lower()\n",
    "\n",
    "if city in monuments.keys() :\n",
    "    print(monuments[city])\n",
    "else :\n",
    "    print('Monument no found for entered city.')"
   ]
  },
  {
   "cell_type": "code",
   "execution_count": null,
   "id": "e305145d-a19d-40a0-9a00-c614c7854c24",
   "metadata": {},
   "outputs": [],
   "source": []
  },
  {
   "cell_type": "markdown",
   "id": "61d35e36-3b3d-44cb-afc5-cd317cafac85",
   "metadata": {},
   "source": [
    "Q4. Check how many times a number ca be devided by 3 before it is less than of equal to 10."
   ]
  },
  {
   "cell_type": "code",
   "execution_count": 32,
   "id": "deb06ee2-bafd-480f-af0a-d207a497fccc",
   "metadata": {},
   "outputs": [
    {
     "name": "stdin",
     "output_type": "stream",
     "text": [
      "Enter the number :  45\n"
     ]
    },
    {
     "name": "stdout",
     "output_type": "stream",
     "text": [
      "Entered number can be devided 2 times by 3 before it gets less than or equal to 10\n"
     ]
    }
   ],
   "source": [
    "num = int(input(\"Enter the number : \"))\n",
    "counter = 0\n",
    "while num >=10 :\n",
    "    num /= 3\n",
    "    counter += 1\n",
    "    \n",
    "print(\"Entered number can be devided\",counter, \"times by 3 before it gets less than or equal to 10\")"
   ]
  },
  {
   "cell_type": "code",
   "execution_count": null,
   "id": "f6b811cd-bb7c-4ff3-9303-3b4679442e9a",
   "metadata": {},
   "outputs": [],
   "source": []
  },
  {
   "cell_type": "markdown",
   "id": "b3cc8cfd-6f7c-406c-ab37-98663dfb867c",
   "metadata": {},
   "source": [
    "Q5. Why and when to use while loop in python, give a detailed description with example?"
   ]
  },
  {
   "cell_type": "markdown",
   "id": "29f0e14d-0959-4d71-b091-8afd21389e5b",
   "metadata": {},
   "source": [
    "A while loop is used when the number of iterations is unknown. It is used when we need to end the loop on a condition other than the number of repetitions. \n",
    "It is not necessary to know the condition ahead of time in this case. That is why we can use a boolean expression in the loop's initialization.\n"
   ]
  },
  {
   "cell_type": "code",
   "execution_count": 33,
   "id": "64e11efb-442f-48b0-b983-39b58e623861",
   "metadata": {},
   "outputs": [
    {
     "name": "stdin",
     "output_type": "stream",
     "text": [
      "Enter nothing to break the loop, anything else to continue :  hello\n"
     ]
    },
    {
     "name": "stdout",
     "output_type": "stream",
     "text": [
      "Your condition is True\n"
     ]
    },
    {
     "name": "stdin",
     "output_type": "stream",
     "text": [
      "Enter nothing to break the loop, anything else to continue :  I still want to be in loop\n"
     ]
    },
    {
     "name": "stdout",
     "output_type": "stream",
     "text": [
      "Your condition is True\n"
     ]
    },
    {
     "name": "stdin",
     "output_type": "stream",
     "text": [
      "Enter nothing to break the loop, anything else to continue :  ok exit the loop\n"
     ]
    },
    {
     "name": "stdout",
     "output_type": "stream",
     "text": [
      "Your condition is True\n"
     ]
    },
    {
     "name": "stdin",
     "output_type": "stream",
     "text": [
      "Enter nothing to break the loop, anything else to continue :  oh I understand now I will not enter anything in next step\n"
     ]
    },
    {
     "name": "stdout",
     "output_type": "stream",
     "text": [
      "Your condition is True\n"
     ]
    },
    {
     "name": "stdin",
     "output_type": "stream",
     "text": [
      "Enter nothing to break the loop, anything else to continue :  \n"
     ]
    },
    {
     "name": "stdout",
     "output_type": "stream",
     "text": [
      "Your condition is False\n"
     ]
    }
   ],
   "source": [
    "# E.g. Continue in a loop till user does'nt want to stop, following loop will continue to execute till then user provide a blank input i.e. nothing at all\n",
    "cond = True\n",
    "while cond :\n",
    "    cond = bool(input(\"Enter nothing to break the loop, anything else to continue : \"))\n",
    "    print(\"Your condition is \" + str(cond))"
   ]
  },
  {
   "cell_type": "code",
   "execution_count": null,
   "id": "734ae85c-9aec-42a1-947f-4784bd296fb0",
   "metadata": {},
   "outputs": [],
   "source": []
  },
  {
   "cell_type": "markdown",
   "id": "e3cd59d5-4a94-4d7d-8dea-11fc0c5f60b8",
   "metadata": {},
   "source": [
    "Q6. Use nested while loop to print 3 different patterns."
   ]
  },
  {
   "cell_type": "code",
   "execution_count": 66,
   "id": "e8e54c6a-2e30-4d99-8da0-1679604f40ab",
   "metadata": {},
   "outputs": [
    {
     "name": "stdout",
     "output_type": "stream",
     "text": [
      "* \n",
      "* * \n",
      "* * * \n",
      "* * * * \n",
      "* * * * * \n"
     ]
    }
   ],
   "source": [
    "counter1 = 1\n",
    "while counter1 <= 5 :\n",
    "    counter2 = 1\n",
    "    while counter2 <= counter1 :\n",
    "        print('*', end = ' ')\n",
    "        counter2 += 1\n",
    "    print()\n",
    "    counter1 += 1\n",
    "    \n"
   ]
  },
  {
   "cell_type": "code",
   "execution_count": 65,
   "id": "397aa2c9-46ee-44bc-9f57-6c3b330cb6f0",
   "metadata": {},
   "outputs": [
    {
     "name": "stdout",
     "output_type": "stream",
     "text": [
      "* * * * * \n",
      "* * * * \n",
      "* * * \n",
      "* * \n",
      "* \n"
     ]
    }
   ],
   "source": [
    "counter1 = 5\n",
    "while counter1 >= 1 :\n",
    "    counter2 = 1\n",
    "    while counter2 <= counter1 :\n",
    "        print('*', end = ' ')\n",
    "        counter2 += 1\n",
    "    print()\n",
    "    counter1 -= 1"
   ]
  },
  {
   "cell_type": "code",
   "execution_count": 7,
   "id": "35c7fab6-220e-457d-b028-2dfbd4713dba",
   "metadata": {},
   "outputs": [
    {
     "name": "stdout",
     "output_type": "stream",
     "text": [
      "                  1 \n",
      "                1 2 \n",
      "              1 2 3 \n",
      "            1 2 3 4 \n",
      "          1 2 3 4 5 \n",
      "        1 2 3 4 5 6 \n",
      "      1 2 3 4 5 6 7 \n",
      "    1 2 3 4 5 6 7 8 \n",
      "  1 2 3 4 5 6 7 8 9 \n"
     ]
    }
   ],
   "source": [
    "rows = 10\n",
    "i = 1\n",
    "while i < rows:\n",
    "    num = 1\n",
    "    j = rows\n",
    "    while j > 0:\n",
    "        if j > i:\n",
    "            print(\" \", end=' ')\n",
    "        else:\n",
    "            print(num, end=' ')\n",
    "            num += 1\n",
    "        j -= 1\n",
    "    i += 1\n",
    "    print(\"\")"
   ]
  },
  {
   "cell_type": "code",
   "execution_count": null,
   "id": "41886a6b-f7d2-422a-af1c-3cdc002d2717",
   "metadata": {},
   "outputs": [],
   "source": []
  },
  {
   "cell_type": "markdown",
   "id": "fafd2511-4e6e-461d-a6d2-1d60244ad83e",
   "metadata": {},
   "source": [
    "Q7. Reverse a while loop to display numbers from 10 to 1."
   ]
  },
  {
   "cell_type": "code",
   "execution_count": 10,
   "id": "08159ce3-8d79-4088-9d5c-a9bdda905999",
   "metadata": {},
   "outputs": [
    {
     "name": "stdout",
     "output_type": "stream",
     "text": [
      "10 9 8 7 6 5 4 3 2 1 "
     ]
    }
   ],
   "source": [
    "i = 10\n",
    "while i > 0 :\n",
    "    print(i, end = \" \")\n",
    "    i -= 1"
   ]
  },
  {
   "cell_type": "code",
   "execution_count": null,
   "id": "bf22706a-ee87-45b8-af6b-87875ce8b5f3",
   "metadata": {},
   "outputs": [],
   "source": []
  },
  {
   "cell_type": "markdown",
   "id": "64229cb4-a25b-4c2d-bfb8-1e5cb66bb134",
   "metadata": {},
   "source": [
    "Q8. Reverse a while loop to display numbers from 10 to 1.\n"
   ]
  },
  {
   "cell_type": "code",
   "execution_count": 11,
   "id": "8948ee39-e894-4594-8db8-4760e9159db8",
   "metadata": {},
   "outputs": [
    {
     "name": "stdout",
     "output_type": "stream",
     "text": [
      "10\n",
      "9\n",
      "8\n",
      "7\n",
      "6\n",
      "5\n",
      "4\n",
      "3\n",
      "2\n",
      "1\n"
     ]
    }
   ],
   "source": [
    "i = 10\n",
    "while i > 0 :\n",
    "    print(i)\n",
    "    i -= 1"
   ]
  },
  {
   "cell_type": "code",
   "execution_count": null,
   "id": "1a079ee8-3ee4-4427-ae9f-684f6d58ee9a",
   "metadata": {},
   "outputs": [],
   "source": []
  }
 ],
 "metadata": {
  "kernelspec": {
   "display_name": "Python 3 (ipykernel)",
   "language": "python",
   "name": "python3"
  },
  "language_info": {
   "codemirror_mode": {
    "name": "ipython",
    "version": 3
   },
   "file_extension": ".py",
   "mimetype": "text/x-python",
   "name": "python",
   "nbconvert_exporter": "python",
   "pygments_lexer": "ipython3",
   "version": "3.10.8"
  }
 },
 "nbformat": 4,
 "nbformat_minor": 5
}
