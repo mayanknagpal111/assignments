{
 "cells": [
  {
   "cell_type": "markdown",
   "id": "93c7aa97-bb25-4279-a15a-f2bdd68f43b9",
   "metadata": {},
   "source": [
    "Q1. Explain with an example each when to use a for loop and a while loop."
   ]
  },
  {
   "cell_type": "markdown",
   "id": "5c23f9c7-38b3-4a81-b19a-2215b358628a",
   "metadata": {},
   "source": [
    "for loop :\n",
    "The for loop is used when we know the number of iterations,\n",
    "that is, how many times a statement must be executed. That is why, when we initialize the for loop, we must define the ending point.\n",
    "\n",
    "\n"
   ]
  },
  {
   "cell_type": "code",
   "execution_count": 4,
   "id": "ba508aca-3504-4bbf-8926-8f1682f8915a",
   "metadata": {},
   "outputs": [
    {
     "name": "stdout",
     "output_type": "stream",
     "text": [
      "hi\n",
      "hi\n",
      "hi\n",
      "hi\n",
      "hi\n",
      "hi\n",
      "hi\n",
      "hi\n",
      "hi\n",
      "hi\n"
     ]
    }
   ],
   "source": [
    "#e.g. Print \"hi\" 10 times as follows :\n",
    "for i in range(10) :\n",
    "    print(\"hi\")"
   ]
  },
  {
   "cell_type": "markdown",
   "id": "c204a84e-358a-4f28-b2a7-ad6d5dbd2cc0",
   "metadata": {},
   "source": [
    "while loop :\n",
    "\n",
    "A while loop is used when the number of iterations is unknown. It is used when we need to end the loop on a condition other than the number of repetitions. It is not necessary to know the condition ahead of time in this case. That is why we can use a boolean expression in the loop's initialization.\n"
   ]
  },
  {
   "cell_type": "code",
   "execution_count": 5,
   "id": "815daa14-4a70-47be-8df4-2b0b978adb7e",
   "metadata": {},
   "outputs": [
    {
     "name": "stdin",
     "output_type": "stream",
     "text": [
      "Enter nothing to break the loop, anything else to continue :  sf\n"
     ]
    },
    {
     "name": "stdout",
     "output_type": "stream",
     "text": [
      "Your condition is True\n"
     ]
    },
    {
     "name": "stdin",
     "output_type": "stream",
     "text": [
      "Enter nothing to break the loop, anything else to continue :  hello\n"
     ]
    },
    {
     "name": "stdout",
     "output_type": "stream",
     "text": [
      "Your condition is True\n"
     ]
    },
    {
     "name": "stdin",
     "output_type": "stream",
     "text": [
      "Enter nothing to break the loop, anything else to continue :  False\n"
     ]
    },
    {
     "name": "stdout",
     "output_type": "stream",
     "text": [
      "Your condition is True\n"
     ]
    },
    {
     "name": "stdin",
     "output_type": "stream",
     "text": [
      "Enter nothing to break the loop, anything else to continue :  I still want to continue\n"
     ]
    },
    {
     "name": "stdout",
     "output_type": "stream",
     "text": [
      "Your condition is True\n"
     ]
    },
    {
     "name": "stdin",
     "output_type": "stream",
     "text": [
      "Enter nothing to break the loop, anything else to continue :  break now\n"
     ]
    },
    {
     "name": "stdout",
     "output_type": "stream",
     "text": [
      "Your condition is True\n"
     ]
    },
    {
     "name": "stdin",
     "output_type": "stream",
     "text": [
      "Enter nothing to break the loop, anything else to continue :  ok I will not enter anything in next iteration to stop the loop\n"
     ]
    },
    {
     "name": "stdout",
     "output_type": "stream",
     "text": [
      "Your condition is True\n"
     ]
    },
    {
     "name": "stdin",
     "output_type": "stream",
     "text": [
      "Enter nothing to break the loop, anything else to continue :  \n"
     ]
    },
    {
     "name": "stdout",
     "output_type": "stream",
     "text": [
      "Your condition is False\n"
     ]
    }
   ],
   "source": [
    "# E.g. Continue in a loop till user does'nt want to stop, following loop will continue to execute till then user provide a blank input i.e. nothing at all\n",
    "cond = True\n",
    "while cond :\n",
    "    cond = bool(input(\"Enter nothing to break the loop, anything else to continue : \"))\n",
    "    print(\"Your condition is \" + str(cond))"
   ]
  },
  {
   "cell_type": "code",
   "execution_count": null,
   "id": "070bdd7d-4306-4615-a0b8-8441ce813eb8",
   "metadata": {},
   "outputs": [],
   "source": []
  },
  {
   "cell_type": "markdown",
   "id": "72fc4e98-8215-48bb-97e7-3fdc090efa3c",
   "metadata": {},
   "source": [
    "Q2. Write a python program to print the sum and product of the first 10 natural numbers using for\n",
    "and while loop."
   ]
  },
  {
   "cell_type": "code",
   "execution_count": 21,
   "id": "cff3e9e1-81ac-4940-986b-b6fc8a1051ec",
   "metadata": {},
   "outputs": [
    {
     "name": "stdout",
     "output_type": "stream",
     "text": [
      "Sum =  55\n",
      "Product =  3628800\n"
     ]
    }
   ],
   "source": [
    "#using for loop :\n",
    "sum = 0\n",
    "product = 1\n",
    "for i in range(1,11) :\n",
    "    sum = sum + i\n",
    "    product = product * i\n",
    "print(\"Sum = \", sum)\n",
    "print(\"Product = \", product)"
   ]
  },
  {
   "cell_type": "code",
   "execution_count": 20,
   "id": "aaedbb7e-1618-4e0f-9fc4-e07da38e2959",
   "metadata": {},
   "outputs": [
    {
     "name": "stdout",
     "output_type": "stream",
     "text": [
      "Sum =  55\n",
      "Product =  3628800\n"
     ]
    }
   ],
   "source": [
    "#using while loop :\n",
    "sum = 0\n",
    "product = 1\n",
    "i = 1\n",
    "while i <= 10 :\n",
    "    sum += i\n",
    "    product *= i\n",
    "    i +=1\n",
    "print(\"Sum = \", sum)\n",
    "print(\"Product = \", product)"
   ]
  },
  {
   "cell_type": "code",
   "execution_count": null,
   "id": "e2d5df54-525c-4dae-ab80-da48b7a2efea",
   "metadata": {},
   "outputs": [],
   "source": [
    "\n"
   ]
  },
  {
   "cell_type": "markdown",
   "id": "2c296a6a-3adc-4b1f-88b1-e2247c22ade9",
   "metadata": {},
   "source": [
    "Q3. Create a python program to compute the electricity bill for a household.\n",
    "\n",
    "The per-unit charges in rupees are as follows: For the first 100 units, the user will be charged Rs. 4.5 per\n",
    "unit, for the next 100 units, the user will be charged Rs. 6 per unit, and for the next 100 units, the user will\n",
    "be charged Rs. 10 per unit, After 300 units and above the user will be charged Rs. 20 per unit.\n",
    "You are required to take the units of electricity consumed in a month from the user as input.\n",
    "Your program must pass this test case: when the unit of electricity consumed by the user in a month is\n",
    "310, the total electricity bill should be 2250."
   ]
  },
  {
   "cell_type": "code",
   "execution_count": 7,
   "id": "fb160a99-d245-4bae-be3f-f829d8e5d22c",
   "metadata": {},
   "outputs": [
    {
     "name": "stdin",
     "output_type": "stream",
     "text": [
      "Enter the number of units consumed :  110\n"
     ]
    },
    {
     "name": "stdout",
     "output_type": "stream",
     "text": [
      "510.0\n"
     ]
    }
   ],
   "source": [
    "unitsConsumed = int(input(\"Enter the number of units consumed : \"))\n",
    "bill = 0\n",
    "\n",
    "if unitsConsumed > 300 :\n",
    "    bill = ((unitsConsumed - 300)  * 20) + 100 * 4.5 + 100 * 6 + 100 * 10\n",
    "elif unitsConsumed <= 300 and unitsConsumed > 200 :\n",
    "    bill = ((unitsConsumed - 200)  * 10) + 100 * 4.5 + 100 * 6\n",
    "elif unitsConsumed <= 200 and unitsConsumed > 100 :\n",
    "    bill = ((unitsConsumed - 100)  * 6) + 100 * 4.5\n",
    "elif unitsConsumed <= 100 and unitsConsumed > 0 :\n",
    "    bill = unitsConsumed * 4.5\n",
    "    \n",
    "print(bill)\n",
    "    "
   ]
  },
  {
   "cell_type": "code",
   "execution_count": null,
   "id": "91f62b16-efa6-482c-a743-35f1a7b2e4a9",
   "metadata": {},
   "outputs": [],
   "source": []
  },
  {
   "cell_type": "markdown",
   "id": "e3fff10a-f5aa-4bbc-b6e1-205baaccd7a7",
   "metadata": {},
   "source": [
    "Q4. Create a list of numbers from 1 to 100. Use for loop and while loop to calculate the cube of each\n",
    "number and if the cube of that number is divisible by 4 or 5 then append that number in a list and print\n",
    "that list."
   ]
  },
  {
   "cell_type": "code",
   "execution_count": 20,
   "id": "cdd95ccf-17e3-45d4-989b-b158e51da81b",
   "metadata": {},
   "outputs": [
    {
     "name": "stdout",
     "output_type": "stream",
     "text": [
      "[2, 4, 5, 6, 8, 10, 12, 14, 15, 16, 18, 20, 22, 24, 25, 26, 28, 30, 32, 34, 35, 36, 38, 40, 42, 44, 45, 46, 48, 50, 52, 54, 55, 56, 58, 60, 62, 64, 65, 66, 68, 70, 72, 74, 75, 76, 78, 80, 82, 84, 85, 86, 88, 90, 92, 94, 95, 96, 98, 100]\n"
     ]
    }
   ],
   "source": [
    "#Using for loop\n",
    "l1 = list(range(1,101))\n",
    "l2 = []\n",
    "for num in l1 :\n",
    "    cube = num ** 3\n",
    "    if cube % 4 == 0 or cube % 5 == 0 :\n",
    "        l2.append(num)\n",
    "print(l2)"
   ]
  },
  {
   "cell_type": "code",
   "execution_count": 21,
   "id": "939d1d47-a9c3-4a19-9f30-6f53edd86a65",
   "metadata": {},
   "outputs": [
    {
     "name": "stdout",
     "output_type": "stream",
     "text": [
      "[2, 4, 5, 6, 8, 10, 12, 14, 15, 16, 18, 20, 22, 24, 25, 26, 28, 30, 32, 34, 35, 36, 38, 40, 42, 44, 45, 46, 48, 50, 52, 54, 55, 56, 58, 60, 62, 64, 65, 66, 68, 70, 72, 74, 75, 76, 78, 80, 82, 84, 85, 86, 88, 90, 92, 94, 95, 96, 98, 100]\n"
     ]
    }
   ],
   "source": [
    "#Using while loop\n",
    "l1 = list(range(1,101))\n",
    "l2 = []\n",
    "i = 0\n",
    "while i < len(l1) :\n",
    "    cube = l1[i] ** 3\n",
    "    if cube % 4 == 0 or cube % 5 == 0 :\n",
    "        l2.append(l1[i])\n",
    "    i += 1\n",
    "print(l2)"
   ]
  },
  {
   "cell_type": "code",
   "execution_count": null,
   "id": "16f6d013-31e7-41f7-bb00-6b45dcfc891b",
   "metadata": {},
   "outputs": [],
   "source": []
  },
  {
   "cell_type": "markdown",
   "id": "dc23d09d-1840-4e6a-a563-821a43d99c7e",
   "metadata": {},
   "source": [
    "Q5. Write a program to filter count vowels in the below-given string.\n",
    "string = \"I want to become a data scientist\""
   ]
  },
  {
   "cell_type": "code",
   "execution_count": 28,
   "id": "c3ef154c-c1f7-4ac7-beae-c74e2abf2bb6",
   "metadata": {},
   "outputs": [
    {
     "name": "stdout",
     "output_type": "stream",
     "text": [
      "No. of vowels :  12\n"
     ]
    }
   ],
   "source": [
    "string = \"I want to become a data scientist\"\n",
    "count = 0\n",
    "for i in string :\n",
    "    if i.lower() in {'a','e','i','o','u'} :\n",
    "        count += 1\n",
    "print(\"No. of vowels : \", count)"
   ]
  },
  {
   "cell_type": "code",
   "execution_count": null,
   "id": "d3759b80-664d-4485-bb67-abb440005cde",
   "metadata": {},
   "outputs": [],
   "source": []
  }
 ],
 "metadata": {
  "kernelspec": {
   "display_name": "Python 3 (ipykernel)",
   "language": "python",
   "name": "python3"
  },
  "language_info": {
   "codemirror_mode": {
    "name": "ipython",
    "version": 3
   },
   "file_extension": ".py",
   "mimetype": "text/x-python",
   "name": "python",
   "nbconvert_exporter": "python",
   "pygments_lexer": "ipython3",
   "version": "3.10.8"
  }
 },
 "nbformat": 4,
 "nbformat_minor": 5
}
