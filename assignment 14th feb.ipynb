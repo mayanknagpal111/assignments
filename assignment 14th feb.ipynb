{
 "cells": [
  {
   "cell_type": "markdown",
   "id": "484ce3e2-1f13-4862-958a-baeb9a9550e4",
   "metadata": {},
   "source": [
    "Q1. What is multithreading in python? Why is it used? Name the module used to handle threads in python."
   ]
  },
  {
   "cell_type": "markdown",
   "id": "90cd41b4-4dc8-4c76-b716-cc4e3a80fe2d",
   "metadata": {},
   "source": [
    "Multithreading is a threading technique to run multiple threads concurrently by rapidly switching between threads with a CPU help (called context switching). Besides, it allows sharing of its data space with the main threads inside a process that share information and communication with other threads easier than individual processes. Multithreading aims to perform multiple tasks simultaneously, which increases performance, speed and improves the rendering of the application.\n",
    "\n",
    "It is a very useful technique for time-saving and improving the performance of an application. Multithreading allows the programmer to divide application tasks into sub-tasks and simultaneously run them in a program. It allows threads to communicate and share resources such as files, data, and memory to the same processor. Furthermore, it increases the user's responsiveness to continue running a program even if a part of the application is the length or blocked.\n",
    "\n",
    "There are two main modules of multithreading used to handle threads in Python.\n",
    "\n",
    "* Thread modules : \n",
    "It is started with Python 3, designated as obsolete, and can only be accessed with _thread that supports backward compatibility.\n",
    "\n",
    "* Threading Modules : \n",
    "The threading module is a high-level implementation of multithreading used to deploy an application in Python. To use multithreading, we need to import the threading module in Python Program."
   ]
  },
  {
   "cell_type": "code",
   "execution_count": null,
   "id": "4a2d9885-477a-4aff-86ba-1be4c9851a68",
   "metadata": {},
   "outputs": [],
   "source": []
  },
  {
   "cell_type": "markdown",
   "id": "f54514d0-ca35-4f0b-b5cc-865a8e602a09",
   "metadata": {},
   "source": [
    "Q2. Why threading module used? Write the use of the following functions\n",
    "1. activeCount()\n",
    "2. currentThread()\n",
    "3. enumerate()"
   ]
  },
  {
   "cell_type": "markdown",
   "id": "80795daa-e7f2-4638-b012-646987b15697",
   "metadata": {},
   "source": [
    "The threading module is a high-level implementation of multithreading used to deploy an application in Python. To use multithreading, we need to import the threading module in Python Program.\n",
    "\n",
    "1. activeCount() − Returns the number of thread objects that are active.\n",
    "2. currentThread() − Returns the number of thread objects in the caller's thread control.\n",
    "3. enumerate() − Returns a list of all thread objects that are currently active."
   ]
  },
  {
   "cell_type": "code",
   "execution_count": null,
   "id": "54eb6524-b36c-4630-9d3f-4c2e756f5b2e",
   "metadata": {},
   "outputs": [],
   "source": []
  },
  {
   "cell_type": "markdown",
   "id": "edb06150-7b16-4a28-a30f-77afa52c1d69",
   "metadata": {},
   "source": [
    "Q3. Explain the following functions\n",
    "1. run()\n",
    "2. start()\n",
    "3. join()\n",
    "4. isAlive()"
   ]
  },
  {
   "cell_type": "markdown",
   "id": "c1bee3db-950b-4aeb-a523-5ea6b7fd5bd9",
   "metadata": {},
   "source": [
    "1. run()  − The run() method is the entry point for a thread.\n",
    "2. start()  − The start() method starts a thread by calling the run method.\n",
    "3. join()  − The join() waits for threads to terminate.\n",
    "4. isAlive()  − The isAlive() method checks whether a thread is still executing."
   ]
  },
  {
   "cell_type": "code",
   "execution_count": null,
   "id": "0ede8d70-d014-4934-ab09-0bc1821fc7d5",
   "metadata": {},
   "outputs": [],
   "source": []
  },
  {
   "cell_type": "markdown",
   "id": "6b5775ff-bab4-48b6-a414-47f586f0620a",
   "metadata": {},
   "source": [
    "Q4. Write a python program to create two threads. Thread one must print the list of squares and thread two must print the list of cubes."
   ]
  },
  {
   "cell_type": "code",
   "execution_count": 28,
   "id": "2c4ffe3e-ede4-4573-b3fb-c1da51cb8232",
   "metadata": {},
   "outputs": [
    {
     "name": "stdout",
     "output_type": "stream",
     "text": [
      "Squares :  [1, 4, 9, 16, 25]\n",
      "Cubes :  [1, 8, 27, 64, 125]\n"
     ]
    }
   ],
   "source": [
    "import threading\n",
    "\n",
    "def squares(nums) :\n",
    "    square = [i**2 for i in nums]\n",
    "    print(\"Squares : \" , square)\n",
    "   \n",
    "    \n",
    "def cubes(nums) : \n",
    "    cube = [i**3 for i in nums]\n",
    "    print(\"Cubes : \" , cube)\n",
    "   \n",
    "    \n",
    "thread1 = threading.Thread(target = squares, args = ([1,2,3,4,5],))\n",
    "thread2 = threading.Thread(target = cubes, args = ([1,2,3,4,5],)) \n",
    "\n",
    "thread1.start()\n",
    "thread2.start()\n",
    "\n"
   ]
  },
  {
   "cell_type": "code",
   "execution_count": null,
   "id": "3baa6c2b-6ef1-424c-a89e-ea82b06fd519",
   "metadata": {},
   "outputs": [],
   "source": []
  },
  {
   "cell_type": "markdown",
   "id": "c5e58465-3203-4b49-b09d-5872d5cf94ee",
   "metadata": {},
   "source": [
    "Q5. State advantages and disadvantages of multithreading."
   ]
  },
  {
   "cell_type": "markdown",
   "id": "4c553fb9-26dc-4f64-8f3f-d790d4d9328f",
   "metadata": {},
   "source": [
    "Multithreading in Python has several advantages, making it a popular approach. Let's take a look at some of them –\n",
    "\n",
    "* Python multithreading enables efficient utilization of the resources as the threads share the data space and memory.\n",
    "* Multithreading in Python allows the concurrent and parallel occurrence of various tasks.\n",
    "* It causes a reduction in time consumption or response time, thereby increasing the performance.\n",
    "\n",
    "\n",
    "Multithreading streamlines different tasks, but the technique also comes with a few disadvantages. Here is why it is not always an option.\n",
    "\n",
    "* There are a few overheads associated with managing multiple threads and you would not want to use multithreading for basic tasks.\n",
    "* While multithreading simplifies tasks, it can make debugging more difficult and increase the complexity of the program."
   ]
  },
  {
   "cell_type": "code",
   "execution_count": null,
   "id": "1e76e155-fafb-4cf4-82b0-c3918a42289b",
   "metadata": {},
   "outputs": [],
   "source": []
  },
  {
   "cell_type": "markdown",
   "id": "6a65acea-4dc9-4c37-b783-ecc7da2f2066",
   "metadata": {},
   "source": [
    "Q6. Explain deadlocks and race conditions."
   ]
  },
  {
   "cell_type": "markdown",
   "id": "c18414c8-a176-4d00-bc68-87166ec8ffff",
   "metadata": {},
   "source": [
    "A deadlock is a concurrency failure mode where a thread or threads wait for a condition that never occurs. The result is that the deadlock threads are unable to progress and the program is stuck or frozen and must be terminated forcefully.\n",
    "\n",
    "There are many ways in which you may encounter a deadlock in your concurrent program. Deadlocks are not developed intentionally, instead, they are an unexpected side effect or bug in concurrency programming.\n",
    "\n",
    "Common examples of the cause of threading deadlocks include:\n",
    "\n",
    "* A thread that waits on itself (e.g. attempts to acquire the same mutex lock twice).\n",
    "* Threads that wait on each other (e.g. A waits on B, B waits on A).\n",
    "* Thread that fails to release a resource (e.g. mutex lock, semaphore, barrier, condition, event, etc.).\n",
    "* Threads that acquire mutex locks in different orders (e.g. fail to perform lock ordering).\n",
    "\n",
    "A race condition may be defined as the occurring of a condition when two or more threads can access shared data and then try to change its value at the same time. Due to this, the values of variables may be unpredictable and vary depending on the timings of context switches of the processes."
   ]
  },
  {
   "cell_type": "code",
   "execution_count": 14,
   "id": "3e26c06d-8ee6-4175-8b13-1536277a5fed",
   "metadata": {},
   "outputs": [
    {
     "name": "stdout",
     "output_type": "stream",
     "text": [
      "Waiting for threads to finish...\n",
      "Value: -100000000\n"
     ]
    }
   ],
   "source": [
    "# example of a race condition with a shared variable\n",
    "from time import sleep\n",
    "from threading import Thread\n",
    " \n",
    "# make additions into the global variable\n",
    "def adder(amount, repeats):\n",
    "    global value\n",
    "    for _ in range(repeats):\n",
    "        # copy the value\n",
    "        tmp = value\n",
    "        # suggest a context switch\n",
    "        sleep(0)\n",
    "        # change the copy\n",
    "        tmp = tmp + amount\n",
    "        # suggest a context switch\n",
    "        sleep(0)\n",
    "        # copy the value back\n",
    "        value = tmp\n",
    "        \n",
    "# make subtractions from the global variable\n",
    "def subtractor(amount, repeats):\n",
    "    global value\n",
    "    for _ in range(repeats):\n",
    "        # copy the value\n",
    "        tmp = value\n",
    "        # suggest a context switch\n",
    "        sleep(0)\n",
    "        # change the copy\n",
    "        tmp = tmp - amount\n",
    "        # suggest a context switch\n",
    "        sleep(0)\n",
    "        # copy the value back\n",
    "        value = tmp\n",
    "        \n",
    "# define the global variable\n",
    "value = 0\n",
    "\n",
    "# start a thread making additions\n",
    "adder_thread = Thread(target=adder, args=(100, 1000000))\n",
    "adder_thread.start()\n",
    "\n",
    "# start a thread making subtractions\n",
    "subtractor_thread = Thread(target=subtractor, args=(100, 1000000))\n",
    "subtractor_thread.start()\n",
    "\n",
    "# wait for both threads to finish\n",
    "print('Waiting for threads to finish...')\n",
    "adder_thread.join()\n",
    "subtractor_thread.join()\n",
    "\n",
    "# report the value\n",
    "print(f'Value: {value}')"
   ]
  },
  {
   "cell_type": "code",
   "execution_count": null,
   "id": "266c9918-e602-4933-8ade-1a8f57484814",
   "metadata": {},
   "outputs": [],
   "source": []
  }
 ],
 "metadata": {
  "kernelspec": {
   "display_name": "Python 3 (ipykernel)",
   "language": "python",
   "name": "python3"
  },
  "language_info": {
   "codemirror_mode": {
    "name": "ipython",
    "version": 3
   },
   "file_extension": ".py",
   "mimetype": "text/x-python",
   "name": "python",
   "nbconvert_exporter": "python",
   "pygments_lexer": "ipython3",
   "version": "3.10.8"
  }
 },
 "nbformat": 4,
 "nbformat_minor": 5
}
